{
 "cells": [
  {
   "cell_type": "markdown",
   "metadata": {},
   "source": [
    "Project 3\n",
    "Naomi and Vienna"
   ]
  },
  {
   "cell_type": "code",
   "execution_count": 1,
   "metadata": {
    "collapsed": true
   },
   "outputs": [],
   "source": [
    "%matplotlib notebook\n",
    "\n",
    "from modsim import *"
   ]
  },
  {
   "cell_type": "code",
   "execution_count": 2,
   "metadata": {
    "collapsed": true
   },
   "outputs": [],
   "source": [
    "kg = UNITS.kilogram\n",
    "m = UNITS.meter\n",
    "s = UNITS.second\n",
    "N = UNITS.newton"
   ]
  },
  {
   "cell_type": "code",
   "execution_count": 3,
   "metadata": {
    "collapsed": true
   },
   "outputs": [],
   "source": [
    "#mass of person\n",
    "mass = 62.1422 * kg"
   ]
  },
  {
   "cell_type": "code",
   "execution_count": 59,
   "metadata": {},
   "outputs": [],
   "source": [
    "#constants\n",
    "g = 9.81 * m/s**2\n",
    "k_trampoline = 200 * kg/s**2"
   ]
  },
  {
   "cell_type": "code",
   "execution_count": 60,
   "metadata": {
    "collapsed": true
   },
   "outputs": [],
   "source": [
    "#starting conditions\n",
    "h_init = 3 * m\n",
    "v_init = 0 * m/s"
   ]
  },
  {
   "cell_type": "code",
   "execution_count": 61,
   "metadata": {},
   "outputs": [
    {
     "data": {
      "text/plain": [
       "'\\nv_final_down = sqrt(2*g*d) #vertical velocity right before contact with trampoline\\nt = sqrt(2*d/g) #time to reach trampoline\\np = mass * v_final_down #momentum at bottom\\nforce_down = p/t #force applied to trampoline\\ntramp_displace = force_down / k_trampoline #trampoline displacement\\ntramp_PE = 0.5 * k_trampoline * tramp_displace**2 #elastic potential energy of trampoline\\n\\n\\nheight_final = tramp_PE / (mass*g) #final height of person\\n\\nv_initial_up = v_final_down\\nh_final = (v_initial_up**2)/(2*g)'"
      ]
     },
     "execution_count": 61,
     "metadata": {},
     "output_type": "execute_result"
    }
   ],
   "source": [
    "#essential equations\n",
    "\"\"\"\n",
    "v_final_down = sqrt(2*g*d) #vertical velocity right before contact with trampoline\n",
    "t = sqrt(2*d/g) #time to reach trampoline\n",
    "p = mass * v_final_down #momentum at bottom\n",
    "force_down = p/t #force applied to trampoline\n",
    "tramp_displace = force_down / k_trampoline #trampoline displacement\n",
    "tramp_PE = 0.5 * k_trampoline * tramp_displace**2 #elastic potential energy of trampoline\n",
    "\n",
    "\n",
    "height_final = tramp_PE / (mass*g) #final height of person\n",
    "\n",
    "v_initial_up = v_final_down\n",
    "h_final = (v_initial_up**2)/(2*g)\"\"\""
   ]
  },
  {
   "cell_type": "code",
   "execution_count": 62,
   "metadata": {
    "collapsed": true
   },
   "outputs": [],
   "source": [
    "def trampoline_something (mass, d, g=g, k=k_trampoline):\n",
    "    v_final_down = sqrt(2*g*d) #vertical velocity right before contact with trampoline\n",
    "    t = sqrt(2*d/g) #time to reach trampoline\n",
    "    p = mass * v_final_down #momentum at bottom\n",
    "    force_down = p/t #force applied to trampoline\n",
    "    tramp_displace = force_down / k_trampoline #trampoline displacement\n",
    "    tramp_PE = 0.5 * k_trampoline * tramp_displace**2 #elastic potential energy of trampoline\n",
    "    return tramp_PE"
   ]
  },
  {
   "cell_type": "code",
   "execution_count": 63,
   "metadata": {},
   "outputs": [],
   "source": [
    "tramp_PE = trampoline_something (mass, h_init, g, k_trampoline)"
   ]
  },
  {
   "cell_type": "code",
   "execution_count": 64,
   "metadata": {
    "collapsed": true
   },
   "outputs": [],
   "source": [
    "def final_height (tramp_PE, mass, g):\n",
    "    height_final = tramp_PE / (mass*g)\n",
    "    return height_final"
   ]
  },
  {
   "cell_type": "code",
   "execution_count": 65,
   "metadata": {},
   "outputs": [
    {
     "data": {
      "text/html": [
       "1.5240374549999993 meter"
      ],
      "text/latex": [
       "$1.5240374549999993 meter$"
      ],
      "text/plain": [
       "<Quantity(1.5240374549999993, 'meter')>"
      ]
     },
     "execution_count": 65,
     "metadata": {},
     "output_type": "execute_result"
    }
   ],
   "source": [
    "final_height (tramp_PE, mass, g)"
   ]
  },
  {
   "cell_type": "code",
   "execution_count": null,
   "metadata": {
    "collapsed": true
   },
   "outputs": [],
   "source": []
  }
 ],
 "metadata": {
  "kernelspec": {
   "display_name": "Python 3",
   "language": "python",
   "name": "python3"
  },
  "language_info": {
   "codemirror_mode": {
    "name": "ipython",
    "version": 3
   },
   "file_extension": ".py",
   "mimetype": "text/x-python",
   "name": "python",
   "nbconvert_exporter": "python",
   "pygments_lexer": "ipython3",
   "version": "3.6.1"
  }
 },
 "nbformat": 4,
 "nbformat_minor": 2
}
