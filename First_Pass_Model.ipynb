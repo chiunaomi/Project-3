{
 "cells": [
  {
   "cell_type": "markdown",
   "metadata": {},
   "source": [
    "Project 3\n",
    "Naomi and Vienna"
   ]
  },
  {
   "cell_type": "code",
   "execution_count": 1,
   "metadata": {
    "collapsed": true
   },
   "outputs": [],
   "source": [
    "%matplotlib notebook\n",
    "\n",
    "from modsim import *"
   ]
  },
  {
   "cell_type": "code",
   "execution_count": 2,
   "metadata": {
    "collapsed": true
   },
   "outputs": [],
   "source": [
    "kg = UNITS.kilogram\n",
    "m = UNITS.meter\n",
    "s = UNITS.second\n",
    "N = UNITS.newton"
   ]
  },
  {
   "cell_type": "code",
   "execution_count": 3,
   "metadata": {
    "collapsed": true
   },
   "outputs": [],
   "source": [
    "#Competitor masses\n",
    "\n",
    "heavy = 99.7903 * kg #heaviest competitor's mass\n",
    "light = 45.3592 * kg #lightest competitor's mass"
   ]
  },
  {
   "cell_type": "code",
   "execution_count": 4,
   "metadata": {
    "collapsed": true
   },
   "outputs": [],
   "source": [
    "g = 9.81 * m/s**2"
   ]
  },
  {
   "cell_type": "code",
   "execution_count": 5,
   "metadata": {},
   "outputs": [
    {
     "data": {
      "text/plain": [
       "'v_final_down = sqrt(2*g*d)\\nt = sqrt(2*d/g)\\np = mass * v_final_down\\nforce_down = p/t\\nforce_trampoline = force_down\\nforce_gravity = mass * g\\nforce_applied = force_down - force_gravity\\n\\nv_initial_up = v_final_down\\nh_final = (v_initial_up**2)/(2*g)'"
      ]
     },
     "execution_count": 5,
     "metadata": {},
     "output_type": "execute_result"
    }
   ],
   "source": [
    "\"\"\"v_final_down = sqrt(2*g*d)\n",
    "t = sqrt(2*d/g)\n",
    "p = mass * v_final_down\n",
    "force_down = p/t\n",
    "force_trampoline = force_down\n",
    "force_gravity = mass * g\n",
    "force_applied = force_down - force_gravity\n",
    "\n",
    "v_initial_up = v_final_down\n",
    "h_final = (v_initial_up**2)/(2*g)\"\"\"\n"
   ]
  },
  {
   "cell_type": "code",
   "execution_count": 6,
   "metadata": {
    "collapsed": true
   },
   "outputs": [],
   "source": [
    "def down(mass, d, g=g):\n",
    "    v_final_down = sqrt(2*g*d)\n",
    "    t = sqrt(2*d/g)\n",
    "    return v_final_down"
   ]
  },
  {
   "cell_type": "code",
   "execution_count": 7,
   "metadata": {
    "collapsed": true
   },
   "outputs": [],
   "source": [
    "v_final_down = down(heavy, 10*m)"
   ]
  },
  {
   "cell_type": "code",
   "execution_count": 8,
   "metadata": {
    "collapsed": true
   },
   "outputs": [],
   "source": [
    "def up(v_final_down, mass, g=g):\n",
    "    v_initial_up = v_final_down\n",
    "    h_final = (v_initial_up**2)/(2*g)\n",
    "    return h_final"
   ]
  },
  {
   "cell_type": "code",
   "execution_count": 9,
   "metadata": {},
   "outputs": [
    {
     "data": {
      "text/html": [
       "9.999999999999998 meter"
      ],
      "text/latex": [
       "$9.999999999999998 meter$"
      ],
      "text/plain": [
       "<Quantity(9.999999999999998, 'meter')>"
      ]
     },
     "execution_count": 9,
     "metadata": {},
     "output_type": "execute_result"
    }
   ],
   "source": [
    "up(v_final_down, heavy)"
   ]
  },
  {
   "cell_type": "code",
   "execution_count": null,
   "metadata": {
    "collapsed": true
   },
   "outputs": [],
   "source": []
  },
  {
   "cell_type": "code",
   "execution_count": null,
   "metadata": {
    "collapsed": true
   },
   "outputs": [],
   "source": []
  }
 ],
 "metadata": {
  "kernelspec": {
   "display_name": "Python 3",
   "language": "python",
   "name": "python3"
  },
  "language_info": {
   "codemirror_mode": {
    "name": "ipython",
    "version": 3
   },
   "file_extension": ".py",
   "mimetype": "text/x-python",
   "name": "python",
   "nbconvert_exporter": "python",
   "pygments_lexer": "ipython3",
   "version": "3.6.1"
  }
 },
 "nbformat": 4,
 "nbformat_minor": 2
}
